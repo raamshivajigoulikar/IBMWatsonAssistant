{
 "cells": [
  {
   "cell_type": "code",
   "execution_count": 2,
   "metadata": {},
   "outputs": [],
   "source": [
    "class Dog():\n",
    "    pass"
   ]
  },
  {
   "cell_type": "code",
   "execution_count": 3,
   "metadata": {},
   "outputs": [],
   "source": [
    "mydog=Dog()"
   ]
  },
  {
   "cell_type": "code",
   "execution_count": 4,
   "metadata": {},
   "outputs": [
    {
     "name": "stdout",
     "output_type": "stream",
     "text": [
      "<class '__main__.Dog'>\n"
     ]
    }
   ],
   "source": [
    "print(type(mydog))"
   ]
  },
  {
   "cell_type": "code",
   "execution_count": 18,
   "metadata": {},
   "outputs": [],
   "source": [
    "class Circle():\n",
    "    #Class Object Instance Variable\n",
    "    pi=3.14\n",
    "    def __init__(self,radius=1):\n",
    "        self.radius=radius\n",
    "    def area(self):\n",
    "        return self.radius*self.radius*Circle.pi\n",
    "    def set_radius(self,new_radius):\n",
    "        self.radius=new_radius"
   ]
  },
  {
   "cell_type": "code",
   "execution_count": 19,
   "metadata": {},
   "outputs": [
    {
     "name": "stdout",
     "output_type": "stream",
     "text": [
      "1\n"
     ]
    }
   ],
   "source": [
    "myc=Circle()\n",
    "print(myc.radius)"
   ]
  },
  {
   "cell_type": "code",
   "execution_count": 20,
   "metadata": {},
   "outputs": [
    {
     "name": "stdout",
     "output_type": "stream",
     "text": [
      "3.14\n"
     ]
    }
   ],
   "source": [
    "print(myc.area())"
   ]
  },
  {
   "cell_type": "code",
   "execution_count": 21,
   "metadata": {},
   "outputs": [
    {
     "name": "stdout",
     "output_type": "stream",
     "text": [
      "31400.0\n"
     ]
    }
   ],
   "source": [
    "myc=Circle(100)\n",
    "print(myc.area())"
   ]
  },
  {
   "cell_type": "code",
   "execution_count": 22,
   "metadata": {},
   "outputs": [
    {
     "name": "stdout",
     "output_type": "stream",
     "text": [
      "3133723.14\n"
     ]
    }
   ],
   "source": [
    "myc.set_radius(999)\n",
    "print(myc.area())"
   ]
  },
  {
   "cell_type": "code",
   "execution_count": 35,
   "metadata": {},
   "outputs": [],
   "source": [
    "from watson_developer_cloud import AssistantV1\n",
    "\n",
    "assistant = AssistantV1(\n",
    "    username='***',\n",
    "    password='****',\n",
    "    url='https://gateway-lon.watsonplatform.net/assistant/api',\n",
    "    version='2018-12-26')"
   ]
  },
  {
   "cell_type": "code",
   "execution_count": 37,
   "metadata": {},
   "outputs": [],
   "source": [
    "assistant.set_detailed_response(True)\n",
    "response = assistant.message(workspace_id='e332abc2-598d-46fb-ac55-1a652fa7a6b7', input={\n",
    "    'text': 'Hi'}).get_result()"
   ]
  },
  {
   "cell_type": "code",
   "execution_count": 38,
   "metadata": {},
   "outputs": [
    {
     "data": {
      "text/plain": [
       "{'context': {'conversation_id': 'da6e22ea-9965-484d-b717-047561900983',\n",
       "  'system': {'_node_output_map': {'node_1_1545911167335': {'0': [0, 0],\n",
       "     '1': [0, 0]}},\n",
       "   'branch_exited': True,\n",
       "   'branch_exited_reason': 'completed',\n",
       "   'dialog_request_counter': 1,\n",
       "   'dialog_stack': [{'dialog_node': 'root'}],\n",
       "   'dialog_turn_counter': 1,\n",
       "   'initialized': True}},\n",
       " 'entities': [],\n",
       " 'input': {'text': 'Hi'},\n",
       " 'intents': [{'confidence': 1, 'intent': 'greet'}],\n",
       " 'output': {'generic': [{'response_type': 'text', 'text': 'Hello!'},\n",
       "   {'response_type': 'text', 'text': 'Welcome!!!'}],\n",
       "  'log_messages': [],\n",
       "  'nodes_visited': ['node_1_1545911167335'],\n",
       "  'text': ['Hello!', 'Welcome!!!']}}"
      ]
     },
     "execution_count": 38,
     "metadata": {},
     "output_type": "execute_result"
    }
   ],
   "source": [
    "response"
   ]
  },
  {
   "cell_type": "code",
   "execution_count": null,
   "metadata": {},
   "outputs": [],
   "source": []
  }
 ],
 "metadata": {
  "kernelspec": {
   "display_name": "Python 3",
   "language": "python",
   "name": "python3"
  },
  "language_info": {
   "codemirror_mode": {
    "name": "ipython",
    "version": 3
   },
   "file_extension": ".py",
   "mimetype": "text/x-python",
   "name": "python",
   "nbconvert_exporter": "python",
   "pygments_lexer": "ipython3",
   "version": "3.6.4"
  }
 },
 "nbformat": 4,
 "nbformat_minor": 2
}
